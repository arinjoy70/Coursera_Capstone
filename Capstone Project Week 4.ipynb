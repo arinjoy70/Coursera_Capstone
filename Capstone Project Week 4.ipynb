{
 "cells": [
  {
   "cell_type": "markdown",
   "metadata": {},
   "source": [
    "# Capstone Project - The Battle of the Neighborhoods "
   ]
  },
  {
   "cell_type": "markdown",
   "metadata": {},
   "source": [
    "## Table of contents\n",
    "* [Introduction: Business Problem](#introduction)\n",
    "* [Data](#data)\n",
    "* [Methodology](#methodology)\n",
    "* [Analysis](#analysis)\n",
    "* [Results and Discussion](#results)\n",
    "* [Conclusion](#conclusion)"
   ]
  },
  {
   "cell_type": "markdown",
   "metadata": {},
   "source": [
    "# Introduction: Business Problem <a name=\"introduction\"></a>"
   ]
  },
  {
   "cell_type": "markdown",
   "metadata": {},
   "source": [
    "In this project, we will try to find the best location or neighborhood for a new hotel. Specifically, this report will be targeted to potential investors and other relevant stakeholders who are interested in opening a hotel in Toronto, Canada.\n",
    "\n",
    "\n",
    "There are a lot of hotels in Toronto so we are looking for areas that are not concentrated with hotels and also the neighborhoods that has the most tourist spots. We have to look at locations that restaurants too but not too many because our hotel will have a restaurant too so we need a nice balance between giving our customers a choice as well promoting our restaurant services. We would also look if the location is nearby to the airport on the basis that it will be easier for tourists to come to if they are new and unfamiliar to Toronto. But this would not be the most important factor we will be looking at, and will be considered if the other criterias are met and we need to choose between them.\n",
    "\n",
    "We will leverage our statisical tools to find suitable locations and investigate the above criterias. This will in turn potentially maximise business for the hotel and in each case we will explain why it is suitable for the stakeholders to choose from."
   ]
  },
  {
   "cell_type": "markdown",
   "metadata": {},
   "source": [
    "# Data <a name=\"data\"></a>"
   ]
  },
  {
   "cell_type": "markdown",
   "metadata": {},
   "source": [
    "We are looking for neighborhoods with:\n",
    "* Less hotels in the viscinity \n",
    "* More tourist attractions nearby \n",
    "* Near to airport or city center\n",
    "\n",
    "We will be using the list of postcodes from the Wikipedia page and webscrape into a dataframe.\n",
    "The unique postcodes will define our respective neighborhoods and we will get the geograhical location by using the the package geocoder.\n",
    "To get the number of tourist attractions and their type and location in every neighborhood will be obtained using Foursquare API."
   ]
  }
 ],
 "metadata": {
  "kernelspec": {
   "display_name": "Python 3",
   "language": "python",
   "name": "python3"
  },
  "language_info": {
   "codemirror_mode": {
    "name": "ipython",
    "version": 3
   },
   "file_extension": ".py",
   "mimetype": "text/x-python",
   "name": "python",
   "nbconvert_exporter": "python",
   "pygments_lexer": "ipython3",
   "version": "3.5.2"
  }
 },
 "nbformat": 4,
 "nbformat_minor": 2
}
